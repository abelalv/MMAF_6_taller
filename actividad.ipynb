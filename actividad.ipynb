{
 "cells": [
  {
   "cell_type": "markdown",
   "id": "70ddc9af",
   "metadata": {},
   "source": [
    "# Álgebra lineal\n",
    "## Taller computacional de álgebra lineal y su aplicación en el procesamiento de lenguaje natural (NLP)\n",
    "\n",
    "\n",
    "**Lea atentamente el siguiente texto introductorio y realice las actividades propuestas en el texto, debes entregar un archivo .ipynb con las actividades resueltas.**\n",
    "\n",
    "El álgebra lineal es una rama de las matemáticas que estudia los espacios vectoriales y las transformaciones lineales entre ellos. Es fundamental en diversas áreas de la ciencia y la ingeniería, incluyendo la física, la informática, la economía y la estadística.\n",
    "\n",
    "En la actualidad ha tenido un especial auge debido a su aplicación en el aprendizaje automático y la inteligencia artificial, donde se utilizan conceptos de álgebra lineal para manejar grandes conjuntos de datos y realizar cálculos eficientes. En esta actividad vamos a explorar algunos conceptos básicos del álgebra lineal  el cual seran usados en el desarrollo de modelos que estudien el procesamiento de lenguaje natural (NLP).\n",
    "\n",
    "Para ello vamos a usar la libreria de Python llamada NumPy, que es una biblioteca fundamental para el cálculo numérico en Python y proporciona soporte para arreglos multidimensionales y funciones matemáticas avanzadas.\n",
    "\n",
    "\n",
    "## Queremos estudiar \n",
    "\n",
    "Para estudiar el proceso de lenguaje natural, vamos a usar unas frases simples y queremos representar cada palabra de las frases en un espacio vectorial. Esto nos permitirá analizar las relaciones entre las palabras y las frases de manera matemática. Para ellos vammos a realizar los siguientes pasos:\n",
    "\n",
    "1. **Preparación de las frases** a cada frase le vamos a quitar las mayúsculas, tildes y signos de puntuación.\n",
    "\n",
    "2. **Construcción del vocabulario**: A partir de las frases preparadas, construiremos un vocabulario único de palabras, es decir vamos a listar todas las palabras diferentes que aparecen en las frases y a cada palabra le vamos a signar un índice único. (Esto lo con la función crear_vocabulario).\n",
    "\n",
    "La siguiente función crea el vocabulario a partir de una lista de frases:\n",
    "\n",
    "**el rey vive en castillo**\n",
    "**la reina vive en palacio**\n",
    "\n",
    "esta son las frases de entrada a la función crear_vocabulario(frases) y el resultado esperado es:\n",
    " ['castillo', 'el', 'en', 'la', 'palacio', 'reina', 'rey', 'vive']\n",
    "\n",
    " y cada palabra tiene un índice asociado:\n",
    " \n",
    " {'castillo': 0, 'el': 1, 'en': 2, 'la': 3, 'palacio': 4, 'reina': 5, 'rey': 6, 'vive': 7}\n",
    "\n"
   ]
  },
  {
   "cell_type": "code",
   "execution_count": 35,
   "id": "2e35e669",
   "metadata": {},
   "outputs": [
    {
     "name": "stdout",
     "output_type": "stream",
     "text": [
      "📚 VOCABULARIO DEL TALLER:\n",
      "Palabras únicas: ['castillo', 'el', 'en', 'la', 'palacio', 'reina', 'rey', 'vive']\n",
      "Total de palabras en vocabulario: 8\n",
      "Dimensión de embeddings: 8 (sin reducción)\n"
     ]
    }
   ],
   "source": [
    "import numpy as np\n",
    "import matplotlib.pyplot as plt\n",
    "\n",
    "# ==================== CONFIGURACIÓN INICIAL ====================\n",
    "frases = [\n",
    "    \"el rey vive en castillo\",\n",
    "    \"la reina vive en palacio\"\n",
    "]\n",
    "\n",
    "# ==================== FUNCIONES DE PREPARACIÓN ====================\n",
    "def crear_vocabulario(frases):\n",
    "    \"\"\"Crear vocabulario a partir de las frases\"\"\"\n",
    "    todas_palabras = []\n",
    "    for frase in frases:\n",
    "        palabras = frase.split()\n",
    "        todas_palabras.extend(palabras)\n",
    "    \n",
    "    vocabulario = sorted(list(set(todas_palabras)))\n",
    "    vocab_size = len(vocabulario)\n",
    "    palabra_a_idx = {palabra: idx for idx, palabra in enumerate(vocabulario)}\n",
    "    idx_a_palabra = {idx: palabra for palabra, idx in palabra_a_idx.items()}\n",
    "    \n",
    "    print(\"📚 VOCABULARIO DEL TALLER:\")\n",
    "    print(f\"Palabras únicas: {vocabulario}\")\n",
    "    print(f\"Total de palabras en vocabulario: {vocab_size}\")\n",
    "    print(f\"Dimensión de embeddings: {vocab_size} (sin reducción)\")\n",
    "    \n",
    "    return vocabulario, vocab_size, palabra_a_idx, idx_a_palabra\n",
    "\n",
    "\n",
    "vocabulario, vocab_size, palabra_a_idx, idx_a_palabra=crear_vocabulario(frases)\n"
   ]
  },
  {
   "cell_type": "markdown",
   "id": "7448f353",
   "metadata": {},
   "source": [
    "3. **Representación vectorial de las palabras**: Una vez que tenemos el vocabulario, representaremos cada palabra como un vector one-hot. En esta representación , cada palabra se representa como un vector de longitud igual al tamaño del vocabulario, a cada palabra le corresponde el la frecuencia de sus vecinos en la frase, para esta ocasión usaremos una ventana de tamaño 2 (es decir, consideraremos las dos palabras anteriores y las dos palabras posteriores como vecinos). Por ejemplo, la palabra \"vive\" en la frase \"el rey vive en castillo\" tendrá como vecinos \"el\", \"rey\", \"en\" y \"castillo\".\n",
    "    La representación vectorial de \"vive\" sería:\n",
    "    \n",
    "    [1, 1, 1, 1, 1, 0, 0, 0]\n",
    "    \n",
    "    donde los índices correspondientes a \"el\", \"rey\", \"en\" y \"castillo\" tienen un valor de 1 (indica que son vecinos) y el resto son 0. \n",
    "\n",
    "para realizar esto usaremos la función crear_matriz_co_ocurrencia(frases, vocabulario, palabra_a_idx, ventana=2) que crea una matriz de co-ocurrencia a partir de las frases y el vocabulario generado en el paso anterior.\n"
   ]
  },
  {
   "cell_type": "code",
   "execution_count": 36,
   "id": "5912f1d0",
   "metadata": {},
   "outputs": [
    {
     "name": "stdout",
     "output_type": "stream",
     "text": [
      "Matriz de co-ocurrencia: [[0. 0. 1. 0. 0. 0. 0. 1.]\n",
      " [0. 0. 0. 0. 0. 0. 1. 1.]\n",
      " [1. 0. 0. 0. 1. 1. 1. 2.]\n",
      " [0. 0. 0. 0. 0. 1. 0. 1.]\n",
      " [0. 0. 1. 0. 0. 0. 0. 1.]\n",
      " [0. 0. 1. 1. 0. 0. 0. 1.]\n",
      " [0. 1. 1. 0. 0. 0. 0. 1.]\n",
      " [1. 1. 2. 1. 1. 1. 1. 0.]]\n"
     ]
    }
   ],
   "source": [
    "\n",
    "def crear_matriz_co_ocurrencia(frases, vocabulario, palabra_a_idx, ventana=2):\n",
    "    \"\"\"Crear matriz de co-ocurrencia\"\"\"\n",
    "    vocab_size = len(vocabulario)\n",
    "    co_ocurrencia = np.zeros((vocab_size, vocab_size))\n",
    "    \n",
    "    for frase in frases:\n",
    "        palabras = frase.split()\n",
    "        for i, palabra in enumerate(palabras):\n",
    "            if palabra not in palabra_a_idx:\n",
    "                continue\n",
    "            idx_actual = palabra_a_idx[palabra]\n",
    "            \n",
    "            # Palabras contexto (ventana de 2 palabras alrededor)\n",
    "            for j in range(max(0, i-ventana), min(len(palabras), i+ventana+1)):\n",
    "                if i != j and palabras[j] in palabra_a_idx:\n",
    "                    idx_contexto = palabra_a_idx[palabras[j]]\n",
    "                    co_ocurrencia[idx_actual][idx_contexto] += 1\n",
    "    \n",
    "    return co_ocurrencia\n",
    "matriz_co_ocurrencia=crear_matriz_co_ocurrencia(frases, vocabulario, palabra_a_idx, ventana=2)\n",
    "print(\"Matriz de co-ocurrencia:\", matriz_co_ocurrencia)\n"
   ]
  },
  {
   "cell_type": "markdown",
   "id": "d92486c7",
   "metadata": {},
   "source": [
    "## Ejercicio 1\n",
    "Verifica que la tabla de co-ocurrencia generada por la función crear_matriz_co_ocurrencia(frases, vocabulario, palabra_a_idx, ventana=2) es correcta.\n",
    "\n"
   ]
  },
  {
   "cell_type": "markdown",
   "id": "36978c2c",
   "metadata": {},
   "source": [
    "De esta forma a cada palabra le vocabulario le podemos asignar su vector de co-ocurrencia correspondiente, por ejemplo:\n",
    "\n",
    "| Palabra   | Vector de co-ocurrencia               |\n",
    "|-----------|--------------------------------------|\n",
    "| castillo  | [0, 0, 1, 0, 0, 0, 0, 1]              |\n",
    "\n",
    "\n",
    "\n",
    "Note, que este vector asociado a la palabra castillo tambien lo podemos obtener con la función\n",
    "obtener_embedding_palabra, donde sus parámetros de entrada son la palabra, el idx de la palabra, y la matriz de co-ocurrencia generada anteriormente.\n",
    "\n",
    "por ejemplo para la palabra \"castillo\", la variable palabra_a_idx (que contiene el diccionario de mapeo de palabras a índices) y la matriz de co-ocurrencia es la generada anteriormente.\n",
    "\n",
    "```python\n",
    "vector_castillo = obtener_embedding_palabra(\"castillo\", palabra_a_idx, matriz_co_ocurrencia)\n",
    "print(\"Vector de co-ocurrencia de 'castillo':\", vector_castillo)\n",
    "```\n"
   ]
  },
  {
   "cell_type": "code",
   "execution_count": 37,
   "id": "de437bd8",
   "metadata": {},
   "outputs": [
    {
     "name": "stdout",
     "output_type": "stream",
     "text": [
      "Vector de co-ocurrencia de 'castillo': [0. 0. 1. 0. 0. 0. 0. 1.]\n"
     ]
    }
   ],
   "source": [
    "def obtener_embedding_palabra(palabra, palabra_a_idx, embeddings):\n",
    "    \"\"\"Obtener embedding de una palabra específica\"\"\"\n",
    "    if palabra in palabra_a_idx:\n",
    "        idx = palabra_a_idx[palabra]\n",
    "        return embeddings[idx]\n",
    "    else:\n",
    "        return None\n",
    "\n",
    "vector_castillo = obtener_embedding_palabra(\"castillo\", palabra_a_idx,matriz_co_ocurrencia)\n",
    "print(\"Vector de co-ocurrencia de 'castillo':\", vector_castillo)"
   ]
  },
  {
   "cell_type": "markdown",
   "id": "3fee2b1d",
   "metadata": {},
   "source": [
    "## Ejercicio 2\n",
    "\n",
    "Supongamos que obtener el vector generado por la frase \"la reina vive\" usando la matriz de co-ocurrencia generada anteriormente. Para ello, suma los vectores de co-ocurrencia correspondientes a cada palabra en la frase \"la reina vive\", y se saca el promedio. ¿Cuál es el vector resultante?\n",
    "\n",
    "##Escribe el codigo en python para realizar este cálculo."
   ]
  },
  {
   "cell_type": "code",
   "execution_count": null,
   "id": "4b2b1c14",
   "metadata": {},
   "outputs": [],
   "source": []
  },
  {
   "cell_type": "markdown",
   "id": "c3cd1402",
   "metadata": {},
   "source": [
    "## Ejercicio 3\n",
    "\n",
    "Genera una forma para ver si las palabras \"rey\" y \"reina\" son similares en el espacio vectorial generado por la matriz de co-ocurrencia. ¿Qué método usarías para medir la similitud entre estos dos vectores? Implementa este método y calcula la similitud entre las palabras \"rey\" y \"reina\"."
   ]
  },
  {
   "cell_type": "code",
   "execution_count": null,
   "id": "bb42a069",
   "metadata": {},
   "outputs": [],
   "source": []
  },
  {
   "cell_type": "markdown",
   "id": "680973c2",
   "metadata": {},
   "source": [
    "### Frases de entrada:\n",
    "*    \"el rey vive en castillo\",\n",
    "*    \"la reina vive en palacio\", \n",
    "*    \"hombre trabaja en oficina\",\n",
    "*    \"mujer trabaja en empresa\",\n",
    "*    \"francia tiene capital paris\",\n",
    "*    \"italia tiene capital roma\",\n",
    "*    \"coche va por carretera\",\n",
    "*    \"barco va por mar\",\n",
    "*    \"dinero da riqueza\",\n",
    "*    \"trabajo da dinero\"\n",
    "\n",
    "para ello corremos la siguente celda:\n",
    "\n"
   ]
  },
  {
   "cell_type": "code",
   "execution_count": 38,
   "id": "447586c1",
   "metadata": {},
   "outputs": [
    {
     "name": "stdout",
     "output_type": "stream",
     "text": [
      "📚 VOCABULARIO DEL TALLER:\n",
      "Palabras únicas: ['barco', 'capital', 'carretera', 'castillo', 'coche', 'da', 'dinero', 'el', 'empresa', 'en', 'francia', 'hombre', 'italia', 'la', 'mar', 'mujer', 'oficina', 'palacio', 'paris', 'por', 'reina', 'rey', 'riqueza', 'roma', 'tiene', 'trabaja', 'trabajo', 'va', 'vive']\n",
      "Total de palabras en vocabulario: 29\n",
      "Dimensión de embeddings: 29 (sin reducción)\n"
     ]
    }
   ],
   "source": [
    "## Creación de vocabulario con nuevas frases\n",
    "frases = [\n",
    "    \"el rey vive en castillo\",\n",
    "    \"la reina vive en palacio\", \n",
    "    \"hombre trabaja en oficina\",\n",
    "    \"mujer trabaja en empresa\",\n",
    "    \"francia tiene capital paris\",\n",
    "    \"italia tiene capital roma\",\n",
    "    \"coche va por carretera\",\n",
    "    \"barco va por mar\",\n",
    "    \"dinero da riqueza\",\n",
    "    \"trabajo da dinero\"\n",
    "]\n",
    "\n",
    "vocabulario, vocab_size, palabra_a_idx, idx_a_palabra=crear_vocabulario(frases)\n",
    "matriz_co_ocurrencia=crear_matriz_co_ocurrencia(frases, vocabulario, palabra_a_idx, ventana=2)"
   ]
  },
  {
   "cell_type": "markdown",
   "id": "c8052d78",
   "metadata": {},
   "source": [
    "## Ejercicio 4\n",
    "\n",
    "Encuentra el vector que representa los vectores que representan las palabras \"rey\", \"hombre\",\"mujer\" y \"reina\". Ahora, realiza el siguiente cálculo:\n",
    "**vector_resultante = vector_rey - vector_hombre + vector_mujer**\n",
    "y comparara el vector_resultante con el vector de la palabra \"reina\". ¿Son similares? ¿Qué observas?"
   ]
  },
  {
   "cell_type": "markdown",
   "id": "da2b0f22",
   "metadata": {},
   "source": [
    "## Ejercicio 5\n",
    "\n",
    "+ Realiza el mismo ejercicio anterior pero usando las palabras \"castillo\", \"hombre\", \"mujer\" y \"palacio\". ¿Qué observas?\n",
    "\n",
    "+ Realiza el mismo ejercicio anterior pero usando las palabras \"paris\", \"francia\"  \"italia\" Y \"roma\". ¿Qué observas?\n",
    "        "
   ]
  },
  {
   "cell_type": "markdown",
   "id": "cc77c5a1",
   "metadata": {},
   "source": [
    "## Predicción de palabras\n",
    "\n",
    "supongamos que tenemos la frase incompleta \"el rey vive en ___\" y queremos predecir la palabra que falta usando la matriz de co-ocurrencia generada anteriormente. Para ello, sumamos los vectores de co-ocurrencia correspondientes a las palabras presentes en la frase y buscamos la palabra cuyo vector de co-ocurrencia sea más similar al vector resultante.\n",
    "\n",
    "Para ello, podemos seguir los siguientes pasos:\n",
    "1. Obtener los vectores de co-ocurrencia para las palabras \"el\", \"rey\", \"vive\" y \"en\".\n",
    "2. Sumar estos vectores para obtener un vector resultante.\n",
    "3. Calcular la similitud entre el vector resultante y los vectores de co-ocurrencia de todas las palabras en el vocabulario.\n",
    "4. La palabra con la mayor similitud será nuestra predicción para la palabra que falta en la frase.ocurrencia de todas las palabras en el vocabulario. La palabra con la mayor similitud será nuestra predicción para la palabra que falta en la frase."
   ]
  },
  {
   "cell_type": "markdown",
   "id": "53246e12",
   "metadata": {},
   "source": [
    "## Ejercicio 6\n",
    "\n",
    "Implementa el proceso descrito anteriormente para predecir la palabra que falta en la frase \"el rey vive en ___\". ¿Cuál es la palabra predicha y qué tan segura estás de esta predicción basado en la similitud calculada?"
   ]
  }
 ],
 "metadata": {
  "kernelspec": {
   "display_name": "class",
   "language": "python",
   "name": "python3"
  },
  "language_info": {
   "codemirror_mode": {
    "name": "ipython",
    "version": 3
   },
   "file_extension": ".py",
   "mimetype": "text/x-python",
   "name": "python",
   "nbconvert_exporter": "python",
   "pygments_lexer": "ipython3",
   "version": "3.12.3"
  }
 },
 "nbformat": 4,
 "nbformat_minor": 5
}
